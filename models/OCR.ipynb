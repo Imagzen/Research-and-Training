{
 "cells": [
  {
   "cell_type": "markdown",
   "metadata": {},
   "source": [
    "# Import packages"
   ]
  },
  {
   "cell_type": "code",
   "execution_count": 180,
   "metadata": {},
   "outputs": [
    {
     "name": "stderr",
     "output_type": "stream",
     "text": [
      "[nltk_data] Downloading package words to\n",
      "[nltk_data]     C:\\Users\\Daksh\\AppData\\Roaming\\nltk_data...\n",
      "[nltk_data]   Package words is already up-to-date!\n"
     ]
    }
   ],
   "source": [
    "import os\n",
    "import pytesseract\n",
    "from PIL import Image\n",
    "import nltk\n",
    "from nltk.corpus import words\n",
    "from nltk.metrics.distance import (\n",
    "    edit_distance,\n",
    "    jaccard_distance,\n",
    "    )\n",
    "from nltk.util import ngrams\n",
    "nltk.download('words')\n",
    "import re\n",
    "from sklearn.feature_extraction.text import CountVectorizer\n",
    "from sklearn.feature_extraction.text import TfidfTransformer"
   ]
  },
  {
   "cell_type": "markdown",
   "metadata": {},
   "source": [
    "# Declare Constants"
   ]
  },
  {
   "cell_type": "code",
   "execution_count": 195,
   "metadata": {},
   "outputs": [],
   "source": [
    "IMG_PATH = \"D:\\\\major-project\\\\dataset\\\\archive\\\\ocr_dataset\\\\sample\\\\sample7.jpg\"\n",
    "CORPUS_DATASET_PATH = \"D:\\\\major-project\\\\dataset\\\\archive\\\\corpus\\\\coca-samples-text\"\n",
    "STOP_WORDS_DATASET_PATH = 'D:\\\\major-project\\\\dataset\\\\archive\\\\corpus\\\\stop_words\\\\stopwords.txt'"
   ]
  },
  {
   "cell_type": "markdown",
   "metadata": {},
   "source": [
    "# Extract Text from Image"
   ]
  },
  {
   "cell_type": "code",
   "execution_count": 196,
   "metadata": {},
   "outputs": [
    {
     "name": "stdout",
     "output_type": "stream",
     "text": [
      "July 17, 2019\n",
      "\n",
      "Notice\n",
      "\n",
      "An Orientation Programme for the newly admitted students will be held on\n",
      "Saturday, July 20, 2019 at 10.30 a.m. in the lawn near the Seminar Room. All\n",
      "\n",
      "Teachers and Staff are requested to attend the event.\n",
      "\n",
      "This will be followed by a department-wise orientation in the respective rooms\n",
      "allotted to the departments.\n",
      "\n"
     ]
    }
   ],
   "source": [
    "pytesseract.pytesseract.tesseract_cmd = 'C:\\\\Program Files\\\\Tesseract-OCR\\\\tesseract.exe'\n",
    "output = pytesseract.image_to_string(IMG_PATH)\n",
    "print(output)"
   ]
  },
  {
   "cell_type": "code",
   "execution_count": 197,
   "metadata": {},
   "outputs": [
    {
     "name": "stdout",
     "output_type": "stream",
     "text": [
      "July 17, 2019  Notice  An Orientation Programme for the newly admitted students will be held on Saturday, July 20, 2019 at 10.30 a.m. in the lawn near the Seminar Room. All  Teachers and Staff are requested to attend the event.  This will be followed by a department-wise orientation in the respective rooms allotted to the departments. \n"
     ]
    }
   ],
   "source": [
    "text = \" \".join(output.replace('*', ' ').split('\\n'))\n",
    "print(text)"
   ]
  },
  {
   "cell_type": "markdown",
   "metadata": {},
   "source": [
    "# Keyword Extraction"
   ]
  },
  {
   "cell_type": "markdown",
   "metadata": {},
   "source": [
    "### Corpus Cleaning"
   ]
  },
  {
   "cell_type": "code",
   "execution_count": 184,
   "metadata": {},
   "outputs": [],
   "source": [
    "def pre_process(text):\n",
    "    \n",
    "    #lowercase\n",
    "    text = text.lower()\n",
    "    \n",
    "    #remove tags\n",
    "    text = re.sub(\"\",\"\",text)\n",
    "    \n",
    "    #remove @xyx\n",
    "    text = re.sub(\"@*\", \"\", text)\n",
    "    \n",
    "    #remove html tags\n",
    "    text = re.sub(\"<.*>\", \"\", text)\n",
    "    \n",
    "    #remove special characters and digits\n",
    "    #text = re.sub(\"(\\\\d|\\\\W)+\", \" \", text)\n",
    "    \n",
    "    return text"
   ]
  },
  {
   "cell_type": "code",
   "execution_count": 185,
   "metadata": {},
   "outputs": [],
   "source": [
    "def find(s, ch):\n",
    "    return [i for i, ltr in enumerate(s) if ltr == ch]\n",
    "\n",
    "corpus = []\n",
    "files = os.listdir(CORPUS_DATASET_PATH)\n",
    "for path in files:\n",
    "    with open(CORPUS_DATASET_PATH+\"\\\\\"+path, 'r', encoding= 'utf-8') as f:\n",
    "        curr_corpus = \" \".join(f.readlines())\n",
    "        full_stop_indices = find(curr_corpus, '.')\n",
    "        start_ind = 0\n",
    "        for i in range(10, len(full_stop_indices), 10):\n",
    "            ind = full_stop_indices[i]\n",
    "            document = curr_corpus[start_ind: ind]\n",
    "            start_ind = ind+1\n",
    "            corpus.append(pre_process(document))\n",
    "        \n",
    "\n"
   ]
  },
  {
   "cell_type": "code",
   "execution_count": 186,
   "metadata": {},
   "outputs": [
    {
     "name": "stdout",
     "output_type": "stream",
     "text": [
      "kirori mal college accounts department  26 october, 2021  notice  it is hereby notified to the students that the last date for submission of online fees for under graduate ii/ilird year and post graduate final year has been extended up to 15.11.2021 the  students are required to deposit their college fees  through on-line payment by using the link: https://www.payumoney.com/webfronts/#/index/kirorimallcollege  \n"
     ]
    }
   ],
   "source": [
    "text = pre_process(text)\n",
    "print(text)"
   ]
  },
  {
   "cell_type": "code",
   "execution_count": 187,
   "metadata": {},
   "outputs": [],
   "source": [
    "def get_stop_words(stop_file_path):\n",
    "\n",
    "    with open(stop_file_path, 'r', encoding='utf-8') as f:\n",
    "        stopwords = f.readlines()\n",
    "        stop_set = set(m.strip() for m in stopwords)\n",
    "        return frozenset(stop_set)"
   ]
  },
  {
   "cell_type": "code",
   "execution_count": 188,
   "metadata": {},
   "outputs": [],
   "source": [
    "stopwords = get_stop_words(STOP_WORDS_DATASET_PATH)"
   ]
  },
  {
   "cell_type": "code",
   "execution_count": 189,
   "metadata": {},
   "outputs": [],
   "source": [
    "cv = CountVectorizer(stop_words = stopwords)"
   ]
  },
  {
   "cell_type": "code",
   "execution_count": 190,
   "metadata": {},
   "outputs": [],
   "source": [
    "word_count_vector = cv.fit_transform(corpus)"
   ]
  },
  {
   "cell_type": "code",
   "execution_count": 191,
   "metadata": {},
   "outputs": [
    {
     "name": "stdout",
     "output_type": "stream",
     "text": [
      "Vocab size: 116812\n"
     ]
    }
   ],
   "source": [
    "print(\"Vocab size: \"+str(len(list(cv.vocabulary_.keys()))))"
   ]
  },
  {
   "cell_type": "code",
   "execution_count": 192,
   "metadata": {},
   "outputs": [
    {
     "data": {
      "text/plain": [
       "TfidfTransformer()"
      ]
     },
     "execution_count": 192,
     "metadata": {},
     "output_type": "execute_result"
    }
   ],
   "source": [
    "tfidf_transformer=TfidfTransformer(smooth_idf=True, use_idf=True)\n",
    "tfidf_transformer.fit(word_count_vector)"
   ]
  },
  {
   "cell_type": "code",
   "execution_count": 193,
   "metadata": {},
   "outputs": [],
   "source": [
    "def sort_coo(coo_matrix):\n",
    "    tuples = zip(coo_matrix.col, coo_matrix.data)\n",
    "    return sorted(tuples, key=lambda x: (x[1], x[0]), reverse=True)\n",
    "def extract_topn_from_vector(feature_names, sorted_items, topn=10):\n",
    "    \"\"\"get the feature names and tf-idf score of top n items\"\"\"\n",
    "    \n",
    "    #use only topn items from vector\n",
    "    sorted_items = sorted_items[:topn]\n",
    "    score_vals = []\n",
    "    feature_vals = []\n",
    "    \n",
    "    # word index and corresponding tf-idf score\n",
    "    for idx, score in sorted_items:\n",
    "        \n",
    "        #keep track of feature name and its corresponding score\n",
    "        score_vals.append(round(score, 3))\n",
    "        feature_vals.append(feature_names[idx])\n",
    "    #create a tuples of feature,score\n",
    "    #results = zip(feature_vals,score_vals)\n",
    "    results= {}\n",
    "    for idx in range(len(feature_vals)):\n",
    "        results[feature_vals[idx]]=score_vals[idx]\n",
    "    \n",
    "    return results"
   ]
  },
  {
   "cell_type": "code",
   "execution_count": 198,
   "metadata": {},
   "outputs": [
    {
     "name": "stdout",
     "output_type": "stream",
     "text": [
      "\n",
      "=====Doc=====\n",
      "July 17, 2019  Notice  An Orientation Programme for the newly admitted students will be held on Saturday, July 20, 2019 at 10.30 a.m. in the lawn near the Seminar Room. All  Teachers and Staff are requested to attend the event.  This will be followed by a department-wise orientation in the respective rooms allotted to the departments. \n",
      "\n",
      "===Keywords===\n",
      "2019 0.398\n",
      "orientation 0.375\n",
      "july 0.28\n",
      "allotted 0.228\n",
      "seminar 0.21\n",
      "programme 0.2\n",
      "respective 0.194\n",
      "requested 0.184\n",
      "departments 0.18\n",
      "lawn 0.177\n"
     ]
    }
   ],
   "source": [
    "feature_names=cv.get_feature_names()\n",
    "tf_idf_vector=tfidf_transformer.transform(cv.transform([text]))\n",
    "sorted_items=sort_coo(tf_idf_vector.tocoo())\n",
    "keywords=extract_topn_from_vector(feature_names,sorted_items,10)\n",
    "print(\"\\n=====Doc=====\")\n",
    "print(text)\n",
    "print(\"\\n===Keywords===\")\n",
    "for k in keywords:\n",
    "    print(k,keywords[k])"
   ]
  },
  {
   "cell_type": "code",
   "execution_count": null,
   "metadata": {},
   "outputs": [],
   "source": []
  },
  {
   "cell_type": "code",
   "execution_count": null,
   "metadata": {},
   "outputs": [],
   "source": []
  }
 ],
 "metadata": {
  "kernelspec": {
   "display_name": "project",
   "language": "python",
   "name": "project"
  },
  "language_info": {
   "codemirror_mode": {
    "name": "ipython",
    "version": 3
   },
   "file_extension": ".py",
   "mimetype": "text/x-python",
   "name": "python",
   "nbconvert_exporter": "python",
   "pygments_lexer": "ipython3",
   "version": "3.7.4"
  }
 },
 "nbformat": 4,
 "nbformat_minor": 2
}
